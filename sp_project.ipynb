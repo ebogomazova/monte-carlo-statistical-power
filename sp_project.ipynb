{
 "cells": [
  {
   "cell_type": "markdown",
   "id": "1a2c7d2d-8ae0-494c-8924-a17602426587",
   "metadata": {
    "tags": []
   },
   "source": [
    "## Проект 2: Симуляция для оценки мощности A/B-теста нового алгоритма рекомендаций\n",
    "\n",
    "\n",
    "Был обновлен алгоритм рекомендаций: \n",
    "\n",
    "*   **Эффект алгоритма:** Добавляет пользователям 1-2 просмотра.\n",
    "*   **Вероятность срабатывания:** 90%.\n",
    "*   **Порог срабатывания:** Алгоритм не срабатывает, если у пользователя меньше 30 просмотров.\n",
    "\n",
    "\n",
    "Основная гипотеза:\n",
    "\n",
    "Обновление алгоритма рекомендаций также приведет к увеличению среднего количества лайков на пользователя. \n",
    "\n",
    "Задача: \n",
    "\n",
    "Оценить вероятность обнаружения статистически значимых отличий в среднем количестве лайков на пользователя между контрольной и экспериментальной группами на основе данных за две недели с 2024-09-20 по 2024-10-03 включительно. \n",
    "\n",
    "### Методология\n",
    "\n",
    "Для решения задачи будет использоваться симуляция методом Монте-Карло. Этот метод выбран потому, что позволяет оценить мощность статистического теста (вероятность обнаружения эффекта, если он существует) при заданных параметрах эксперимента и распределениях данных, не проводя реальный эксперимент. Использование Монте-Карло особенно актуально, когда сложно точно предсказать распределение данных в реальном эксперименте, но есть возможность смоделировать его на основе исторических данных или на имеющихся данных из периода А/А-теста и А/B-теста.\n",
    "\n",
    "### Процесс симуляции\n",
    "\n",
    "1.  **Сбор и подготовка данных:**  Данные за две недели с 2024-09-20 по 2024-10-03 (период проведения А/А-теста и А/B-теста). Будут использоваться для построения распределения просмотров и лайков пользователей.\n",
    "2.  **Разделение на группы:**  Пользователи будут разделены на две группы (контрольную и экспериментальную) в соотношении 50/50.\n",
    "3.  **Симуляция эффекта алгоритма:**  Эффект алгоритма моделируется с учетом вероятности срабатывания (90%), добавления 1-2 просмотров, и порога срабатывания (30 просмотров).\n",
    "4.  **Генерация симулированных данных:**  Для каждой симуляции генерируются данные о просмотрах и лайках для каждой группы пользователей.\n",
    "5.  **Проведение статистического теста:**  Для каждой симуляции проводится t-тест с поправкой Уэлча на неравные дисперсии (`equal_var=False`). Поправка Уэлча используется, так как мы не можем предполагать, что дисперсии количества лайков в контрольной и экспериментальной группах будут равны. \n",
    "6.  **Оценка мощности:**  Мощность теста рассчитывается как доля симуляций, в которых t-тест показал статистически значимые различия (p-value < 0.05).\n",
    "7.  **Повторение:** Шаги 3-6 повторяются не менее 20000 раз.\n",
    "\n",
    "\n",
    "### Ожидаемые результаты\n",
    "\n",
    "В результате симуляции будет получена оценка мощности теста – вероятность обнаружения статистически значимых различий в количестве лайков на пользователя между группами, если такие различия действительно существуют.\n"
   ]
  },
  {
   "cell_type": "code",
   "execution_count": 2,
   "id": "f0d05866-829a-41fd-a7fe-1a5b6598c15a",
   "metadata": {},
   "outputs": [],
   "source": [
    "import pandas as pd\n",
    "import pandahouse as ph\n",
    "import numpy as np\n",
    "from scipy import stats\n",
    "from scipy.stats import norm, ttest_ind\n",
    "import matplotlib.pyplot as plt\n",
    "import seaborn as sns\n",
    "from tqdm import tqdm #шкала прогресса\n",
    "\n",
    "rng = np.random.default_rng() #для генерации псевдослучайных чисел"
   ]
  },
  {
   "cell_type": "code",
   "execution_count": 15,
   "id": "067a039f-2502-4341-b0d8-6330a77cc8b0",
   "metadata": {},
   "outputs": [],
   "source": [
    "#параметры соединения\n",
    "connection = {'host': 'https://clickhouse.example',\n",
    "            'database':'database',\n",
    "            'user':'user',\n",
    "            'password':'password'\n",
    "            }\n",
    "\n",
    "#CTR за период АА-теста и АВ-теста\n",
    "q = \"\"\"\n",
    "    select \n",
    "       floor(ctr, 2) as ctr, count() as users\n",
    "    from (select toDate(time) as dt,\n",
    "        user_id,\n",
    "        sum(action = 'like')/sum(action = 'view') as ctr\n",
    "    from {db}.feed_actions\n",
    "    where dt between '2024-09-20' and '2024-10-03' \n",
    "    group by dt, user_id\n",
    "    )\n",
    "    group by ctr\n",
    "\"\"\"\n",
    "\n",
    "#views за период АА-теста и АВ-теста\n",
    "q2 = \"\"\"\n",
    "    select views, count() as users\n",
    "    from (select  \n",
    "        user_id,\n",
    "        sum(action = 'view') as views\n",
    "    from {db}.feed_actions\n",
    "    where toDate(time) between '2024-09-20' and '2024-10-03'\n",
    "    group by user_id\n",
    "    )\n",
    "    group by views\n",
    "    order by views\n",
    "\"\"\""
   ]
  },
  {
   "cell_type": "code",
   "execution_count": 30,
   "id": "bb955e1b-9cfe-4780-a45d-0e7455cad7a5",
   "metadata": {},
   "outputs": [],
   "source": [
    "#эмпирическое распределение\n",
    "views_distribution = ph.read_clickhouse(q2, connection=connection)\n",
    "ctr_distribution = ph.read_clickhouse(q, connection=connection)\n",
    "ctr_distribution['ctr'] = ctr_distribution['ctr'].fillna(0)\n",
    "ctr_distribution['ctr'] = np.clip(ctr_distribution['ctr'], 0, 1)"
   ]
  },
  {
   "cell_type": "code",
   "execution_count": 31,
   "id": "c8a81253-d404-4c89-977d-6c52c3af93ec",
   "metadata": {},
   "outputs": [
    {
     "name": "stdout",
     "output_type": "stream",
     "text": [
      "Размер выборки: 30591.0\n"
     ]
    }
   ],
   "source": [
    "#подсчет кол-ва пользователей за период\n",
    "total_users = views_distribution.users.sum()\n",
    "\n",
    "size = np.floor(total_users // 2)  # размер первой группы при разбивке 50/50 с округлением вниз\n",
    "\n",
    "print(f\"Размер выборки: {size}\")"
   ]
  },
  {
   "cell_type": "code",
   "execution_count": 32,
   "id": "18458904-d4de-44c6-94dd-1309c4876621",
   "metadata": {},
   "outputs": [
    {
     "data": {
      "text/html": [
       "<div>\n",
       "<style scoped>\n",
       "    .dataframe tbody tr th:only-of-type {\n",
       "        vertical-align: middle;\n",
       "    }\n",
       "\n",
       "    .dataframe tbody tr th {\n",
       "        vertical-align: top;\n",
       "    }\n",
       "\n",
       "    .dataframe thead th {\n",
       "        text-align: right;\n",
       "    }\n",
       "</style>\n",
       "<table border=\"1\" class=\"dataframe\">\n",
       "  <thead>\n",
       "    <tr style=\"text-align: right;\">\n",
       "      <th></th>\n",
       "      <th>ctr</th>\n",
       "      <th>users</th>\n",
       "      <th>p</th>\n",
       "    </tr>\n",
       "  </thead>\n",
       "  <tbody>\n",
       "    <tr>\n",
       "      <th>21</th>\n",
       "      <td>0.20</td>\n",
       "      <td>9970</td>\n",
       "      <td>0.054944</td>\n",
       "    </tr>\n",
       "    <tr>\n",
       "      <th>57</th>\n",
       "      <td>0.25</td>\n",
       "      <td>8514</td>\n",
       "      <td>0.046920</td>\n",
       "    </tr>\n",
       "    <tr>\n",
       "      <th>39</th>\n",
       "      <td>0.16</td>\n",
       "      <td>8344</td>\n",
       "      <td>0.045983</td>\n",
       "    </tr>\n",
       "    <tr>\n",
       "      <th>6</th>\n",
       "      <td>0.18</td>\n",
       "      <td>8228</td>\n",
       "      <td>0.045344</td>\n",
       "    </tr>\n",
       "    <tr>\n",
       "      <th>84</th>\n",
       "      <td>0.21</td>\n",
       "      <td>7756</td>\n",
       "      <td>0.042742</td>\n",
       "    </tr>\n",
       "    <tr>\n",
       "      <th>...</th>\n",
       "      <td>...</td>\n",
       "      <td>...</td>\n",
       "      <td>...</td>\n",
       "    </tr>\n",
       "    <tr>\n",
       "      <th>70</th>\n",
       "      <td>0.74</td>\n",
       "      <td>1</td>\n",
       "      <td>0.000006</td>\n",
       "    </tr>\n",
       "    <tr>\n",
       "      <th>9</th>\n",
       "      <td>0.91</td>\n",
       "      <td>1</td>\n",
       "      <td>0.000006</td>\n",
       "    </tr>\n",
       "    <tr>\n",
       "      <th>59</th>\n",
       "      <td>1.00</td>\n",
       "      <td>1</td>\n",
       "      <td>0.000006</td>\n",
       "    </tr>\n",
       "    <tr>\n",
       "      <th>58</th>\n",
       "      <td>0.95</td>\n",
       "      <td>1</td>\n",
       "      <td>0.000006</td>\n",
       "    </tr>\n",
       "    <tr>\n",
       "      <th>47</th>\n",
       "      <td>0.87</td>\n",
       "      <td>1</td>\n",
       "      <td>0.000006</td>\n",
       "    </tr>\n",
       "  </tbody>\n",
       "</table>\n",
       "<p>92 rows × 3 columns</p>\n",
       "</div>"
      ],
      "text/plain": [
       "     ctr  users         p\n",
       "21  0.20   9970  0.054944\n",
       "57  0.25   8514  0.046920\n",
       "39  0.16   8344  0.045983\n",
       "6   0.18   8228  0.045344\n",
       "84  0.21   7756  0.042742\n",
       "..   ...    ...       ...\n",
       "70  0.74      1  0.000006\n",
       "9   0.91      1  0.000006\n",
       "59  1.00      1  0.000006\n",
       "58  0.95      1  0.000006\n",
       "47  0.87      1  0.000006\n",
       "\n",
       "[92 rows x 3 columns]"
      ]
     },
     "execution_count": 32,
     "metadata": {},
     "output_type": "execute_result"
    }
   ],
   "source": [
    "#df с вероятностью просмотров \n",
    "views_distribution['p'] = views_distribution['users']/views_distribution.users.sum()\n",
    "views_distribution.sort_values(by = 'p', ascending = False)\n",
    "\n",
    "#df с вероятностью ctr \n",
    "ctr_distribution['p'] = ctr_distribution['users']/ctr_distribution.users.sum()\n",
    "ctr_distribution.sort_values(by = 'p', ascending = False)"
   ]
  },
  {
   "cell_type": "code",
   "execution_count": 33,
   "id": "f7ec21bd-c13f-43d2-a14a-8760342bf3fb",
   "metadata": {},
   "outputs": [
    {
     "data": {
      "text/plain": [
       "<Axes: ylabel='Count'>"
      ]
     },
     "execution_count": 33,
     "metadata": {},
     "output_type": "execute_result"
    },
    {
     "data": {
      "image/png": "[encoded data removed]",
      "text/plain": [
       "<Figure size 432x288 with 1 Axes>"
      ]
     },
     "metadata": {
      "needs_background": "light"
     },
     "output_type": "display_data"
    }
   ],
   "source": [
    "#генерируем распределение просмотров на основе реальных данных\n",
    "sim_views = rng.choice(a=views_distribution.views, size=30591, replace=True, p=views_distribution.p)\n",
    "sns.histplot(sim_views)"
   ]
  },
  {
   "cell_type": "code",
   "execution_count": 34,
   "id": "7f464708-471c-4e97-81c0-5960211deaf8",
   "metadata": {},
   "outputs": [
    {
     "data": {
      "text/plain": [
       "<Axes: ylabel='Count'>"
      ]
     },
     "execution_count": 34,
     "metadata": {},
     "output_type": "execute_result"
    },
    {
     "data": {
      "image/png": "[encoded data removed]",
      "text/plain": [
       "<Figure size 432x288 with 1 Axes>"
      ]
     },
     "metadata": {
      "needs_background": "light"
     },
     "output_type": "display_data"
    }
   ],
   "source": [
    "#генерируем распределение ctr на основе реальных данных\n",
    "sim_ctrs = rng.choice(a=ctr_distribution.ctr, size=30591, replace=True, p=ctr_distribution.p)\n",
    "sns.histplot(sim_ctrs)"
   ]
  },
  {
   "cell_type": "code",
   "execution_count": 35,
   "id": "5f3e8600-918a-4288-9e89-3de9a1f0067f",
   "metadata": {},
   "outputs": [
    {
     "data": {
      "text/plain": [
       "<Axes: ylabel='Count'>"
      ]
     },
     "execution_count": 35,
     "metadata": {},
     "output_type": "execute_result"
    },
    {
     "data": {
      "image/png": "[encoded data removed]",
      "text/plain": [
       "<Figure size 432x288 with 1 Axes>"
      ]
     },
     "metadata": {
      "needs_background": "light"
     },
     "output_type": "display_data"
    }
   ],
   "source": [
    "#симуляция распределения лайки-клики на основе реальных данных - np.random.binomial с количеством испытаний, равным количеству просмотров, и вероятностью успеха, равной CTR\n",
    "#т.о. используется два фактора, чтобы смоделировать лайки/клики: кол-во просмотров влияет на шанс получить лайк/клик, также чем выше CTR, тем больше шансов получить лайк или клик\n",
    "sim_clicks = rng.binomial(n=sim_views.astype(\"int64\"), p=sim_ctrs)\n",
    "sns.histplot(sim_clicks)"
   ]
  },
  {
   "cell_type": "markdown",
   "id": "0c649349-1382-48cb-ad8f-1fd91e872dcc",
   "metadata": {},
   "source": [
    "### Моделирование эффекта нового алгоритма на просмотры\n",
    "\n",
    "Для имитации эффекта нового алгоритма, добавляющего пользователям 1 или 2 просмотра с вероятностью 90% (при условии, что у пользователя более 30 просмотров), используется следующее выражение:\n",
    "\n",
    "***group_B_views + ((1 + rng.binomial(n=1, p=0.5, size=размер_выборки)) * rng.binomial(n=1, p=0.9, size=размер_выборки) * (group_B_views >= 30))***\n",
    "\n",
    "**Разберем формулу:**\n",
    "\n",
    "*   **`group_B_views`**: Это массив, содержащий исходное количество просмотров для каждого пользователя в экспериментальной группе (группа B). К этому массиву добавляется имитация эффекта алгоритма.\n",
    "\n",
    "*   **(1 + `rng.binomial(n=1, p=0.5, size=размер_выборки)`)**: Эта часть отвечает за добавление 1 или 2 просмотров.\n",
    "    *   `rng.binomial(n=1, p=0.5, size=размер_выборки)` генерирует массив случайных чисел 0 и 1, где вероятность 0 и 1 равна 0.5. Это моделирует “бросок монетки”.\n",
    "    *   Прибавление 1 к результату биномиального распределения (0 или 1) дает либо 1, либо 2. Таким образом, мы получаем массив, где каждому пользователю соответствует число 1 или 2, отражающее количество дополнительных просмотров.\n",
    "\n",
    "*   **`rng.binomial(n=1, p=0.9, size=размер_выборки)`**: Эта часть моделирует вероятность срабатывания алгоритма.\n",
    "    *   `rng.binomial(n=1, p=0.9, size=размер_выборки)` генерирует массив случайных чисел 0 и 1. Вероятность 1 (алгоритм сработал) равна 0.9, а вероятность 0 (алгоритм не сработал) равна 0.1.\n",
    "\n",
    "*   **`(group_B_views >= 30)`**: Это булевое условие, которое определяет, будет ли применен эффект алгоритма к пользователю.\n",
    "    *   Для каждого пользователя проверяется, больше ли количество его просмотров (`group_B_views`) 30.\n",
    "    *   Результат — булевый массив (`True` или `False`), который при поэлементном умножении на числовой массив интерпретируется как 1 (`True`) или 0 (`False`).\n",
    "\n",
    "    \n",
    "Как все работает вместе:\n",
    "\n",
    "1.  Начинаем с исходного количества просмотров (`group_B_views`).\n",
    "2.  Генерируем массив, определяющий, сколько дополнительных просмотров добавить каждому пользователю (1 или 2).\n",
    "3.  Генерируем массив, определяющий, сработал ли алгоритм для каждого пользователя (1 или 0).\n",
    "4.  Используем условие `(group_B_views >= 30)`, чтобы применить эффект только к пользователям с достаточным количеством просмотров.\n",
    "5.  Все эти массивы перемножаются поэлементно, а затем складываются с исходным количеством просмотров, моделируя финальное количество просмотров после действия алгоритма.\n",
    "\n",
    "В итоге, это выражение моделирует увеличение просмотров у экспериментальной группы в соответствии с заданными условиями: 1-2 просмотра с вероятностью 90% для пользователей с 30 и более просмотрами."
   ]
  },
  {
   "cell_type": "code",
   "execution_count": 36,
   "id": "a426bf08-32c4-4e28-8dff-d097002cb084",
   "metadata": {},
   "outputs": [
    {
     "data": {
      "text/plain": [
       "array([ True,  True,  True, ...,  True, False,  True])"
      ]
     },
     "execution_count": 36,
     "metadata": {},
     "output_type": "execute_result"
    }
   ],
   "source": [
    "#создаем последовательность из 1 и 2\n",
    "1 + rng.binomial(n=1, p=0.5, size=30591)\n",
    "#создаем последовательность из 0 и 1 \n",
    "rng.binomial(n=1, p=0.9, size=30591)\n",
    "#пользователи с числом просмотров большим, чем 30\n",
    "sim_views >= 30"
   ]
  },
  {
   "cell_type": "code",
   "execution_count": 37,
   "id": "d479f1fd-c2a0-4f89-a16b-c9d0bd0687dd",
   "metadata": {},
   "outputs": [
    {
     "data": {
      "text/plain": [
       "array([2, 1, 1, ..., 0, 0, 2])"
      ]
     },
     "execution_count": 37,
     "metadata": {},
     "output_type": "execute_result"
    }
   ],
   "source": [
    "#при перемножении получим массив из 0,1,2: 0 - пользователи без просмотров и/или 10%, 1 - один просмотр, 2 - два просмотра\n",
    "rng.binomial(n=1, p=0.9, size=30591) * (1 + rng.binomial(n=1, p=0.5, size=30591)) * (sim_views >= 30)"
   ]
  },
  {
   "cell_type": "code",
   "execution_count": 38,
   "id": "f508105d-348c-49bd-b149-2231b13f67dc",
   "metadata": {},
   "outputs": [
    {
     "data": {
      "text/plain": [
       "array([112., 132., 233., ...,  66.,  20.,  66.])"
      ]
     },
     "execution_count": 38,
     "metadata": {},
     "output_type": "execute_result"
    }
   ],
   "source": [
    "#добавим к нашим просмотрам и получим эффект, на этой основе будем генерировать лайки\n",
    "sim_views + (rng.binomial(n=1, p=0.9, size=30591) * (1 + rng.binomial(n=1, p=0.5, size=30591)) * (sim_views >= 30))"
   ]
  },
  {
   "cell_type": "code",
   "execution_count": 39,
   "id": "c194c39b-6d4f-4233-af63-4b0b95a85719",
   "metadata": {},
   "outputs": [],
   "source": [
    "#расчет мощности\n",
    "def power_calc(sample_size, views_df, ctr_df, threshold, nsim=1000):\n",
    "\n",
    "\n",
    "    pvalues = [] #список для p-value\n",
    "    rng = np.random.default_rng()\n",
    "\n",
    "    #симуляируем просмотры, ctr, эффект, лайки, сравниваем t-тестом nsim раз:\n",
    "    for _ in tqdm(range(nsim)):\n",
    "\n",
    "        group_A_views = rng.choice(a=views_df.views, size=sample_size, replace=True, p=views_df.p).astype(\"int64\")\n",
    "        group_B_views = rng.choice(a=views_df.views, size=sample_size, replace=True, p=views_df.p).astype(\"int64\")\n",
    "\n",
    "        group_B_views = group_B_views + (rng.binomial(n=1, p=0.9, size=sample_size) * (1 + rng.binomial(n=1, p=0.5, size=sample_size)) * (group_B_views >= threshold))\n",
    "        group_B_views = group_B_views.astype(\"int64\")\n",
    "\n",
    "        group_A_ctr = rng.choice(a=ctr_df.ctr, size=sample_size, replace=True, p=ctr_df.p)\n",
    "        group_B_ctr = rng.choice(a=ctr_df.ctr, size=sample_size, replace=True, p=ctr_df.p)\n",
    "\n",
    "        clicks_A = rng.binomial(n=group_A_views, p=group_A_ctr)\n",
    "        clicks_B = rng.binomial(n=group_B_views, p=group_B_ctr)\n",
    "\n",
    "        pvalues.append(ttest_ind(clicks_A, clicks_B, equal_var=False).pvalue)\n",
    "\n",
    "    #получаем мощность\n",
    "    return np.mean(np.array(pvalues) < 0.05)"
   ]
  },
  {
   "cell_type": "code",
   "execution_count": 40,
   "id": "252ad6f2-1efd-413b-83cc-9b1273b71e2a",
   "metadata": {},
   "outputs": [
    {
     "name": "stderr",
     "output_type": "stream",
     "text": [
      "100%|██████████| 20000/20000 [06:23<00:00, 52.17it/s]\n"
     ]
    },
    {
     "data": {
      "text/plain": [
       "0.36525"
      ]
     },
     "execution_count": 40,
     "metadata": {},
     "output_type": "execute_result"
    }
   ],
   "source": [
    "power_calc(sample_size=30591, views_df=views_distribution, ctr_df=ctr_distribution, threshold=30, nsim=20000)"
   ]
  },
  {
   "cell_type": "markdown",
   "id": "51b04e08-4458-4948-829f-662129aac9b3",
   "metadata": {},
   "source": [
    "### Анализ результатов симуляции\n",
    "\n",
    "В результате симуляции методом Монте-Карло была получена статистическая мощность 36%. Это значение значительно ниже общепринятого стандарта в 80%. На первый взгляд, это может показаться неожиданным, учитывая большой размер выборки (по 30591 пользователя в каждой группе), что обычно ассоциируется с высокой статистической мощностью.\n",
    "\n",
    "Однако, низкая мощность объясняется несколькими факторами:\n",
    "\n",
    "*   **Малый эффект алгоритма:** Алгоритм добавляет всего 1-2 просмотра, что может быть недостаточно для обнаружения статистически значимого влияния на среднее количество лайков, особенно при наличии значительной дисперсии данных.\n",
    "\n",
    "*   **Порог срабатывания алгоритма:** Алгоритм применяется только к пользователям с количеством просмотров ≥ 30, что уменьшает число пользователей, на которых воздействует алгоритм, и, следовательно, уменьшает мощность теста.\n",
    "\n",
    "*   **Вероятность срабатывания алгоритма:** 90% вероятность срабатывания алгоритма уменьшают размер выборки, на которую влияет алгоритм.\n",
    "\n",
    "Эти факторы влияют на дисперсию данных и затрудняют обнаружение относительно малого эффекта алгоритма.\n",
    "\n",
    "Для повышения статистической мощности и более точной оценки эффекта алгоритма предлагается следующий подход:\n",
    "\n",
    "*   **Анализ подвыборки:**  Вместо анализа полной выборки,  будет использована подвыборка, включающая только пользователей с количеством просмотров ≥ 30.  Это позволит исключить \"шум\" от пользователей, на которых алгоритм не оказывает никакого влияния. Несмотря на потенциальное снижение общего размера выборки, ожидается *повышение* мощности теста. Это происходит потому, что фильтрация пользователей  приведет к уменьшению дисперсии данных в экспериментальной и контрольной группах,  что, в свою очередь, увеличит статистическую значимость различий между группами, если таковые действительно есть.  В результате,  даже при меньшем числе наблюдений, мы можем получить более высокую мощность за счет повышения \"сигнала\" (различия между группами) по отношению к \"шуму\" (дисперсии данных).\n",
    "\n",
    "Дальнейший анализ будет проведен с использованием подвыборки для проверки, подтвердится ли предположение о повышении мощности теста."
   ]
  },
  {
   "cell_type": "code",
   "execution_count": 42,
   "id": "50003835-d7f2-454e-81cb-5d219f40d522",
   "metadata": {},
   "outputs": [],
   "source": [
    "#расчет мощности\n",
    "def power_calc_filtered(sample_size, views_df, ctr_df, threshold, nsim=1000):\n",
    "\n",
    "\n",
    "    pvalues = [] #список для p-value\n",
    "    rng = np.random.default_rng()\n",
    "\n",
    "    #симуляируем просмотры, ctr, эффект, лайки, сравниваем t-тестом nsim раз:\n",
    "    for _ in tqdm(range(nsim)):\n",
    "\n",
    "        group_A_views = rng.choice(a=views_df.views, size=sample_size, replace=True, p=views_df.p).astype(\"int64\")\n",
    "        group_B_views = rng.choice(a=views_df.views, size=sample_size, replace=True, p=views_df.p).astype(\"int64\")\n",
    "\n",
    "        group_B_views = group_B_views + (rng.binomial(n=1, p=0.9, size=sample_size) * (1 + rng.binomial(n=1, p=0.5, size=sample_size)) * (group_B_views >= threshold))\n",
    "        group_B_views = group_B_views.astype(\"int64\")\n",
    "\n",
    "        #отсеиваем лишних \n",
    "        filter_A = group_A_views>=threshold\n",
    "        filter_B = group_B_views>=threshold\n",
    "        \n",
    "        group_A_ctr = rng.choice(a=ctr_df.ctr, size=sample_size, replace=True, p=ctr_df.p)\n",
    "        group_B_ctr = rng.choice(a=ctr_df.ctr, size=sample_size, replace=True, p=ctr_df.p)\n",
    "\n",
    "        clicks_A = rng.binomial(n=group_A_views, p=group_A_ctr)\n",
    "        clicks_B = rng.binomial(n=group_B_views, p=group_B_ctr)\n",
    "\n",
    "        pvalues.append(ttest_ind(clicks_A[filter_A], clicks_B[filter_B], equal_var=False).pvalue)\n",
    "\n",
    "    #получаем мощность\n",
    "    return np.mean(np.array(pvalues) < 0.05)"
   ]
  },
  {
   "cell_type": "code",
   "execution_count": 43,
   "id": "565514a3-8446-420a-bc18-dba272c8fc51",
   "metadata": {},
   "outputs": [
    {
     "name": "stderr",
     "output_type": "stream",
     "text": [
      "100%|██████████| 20000/20000 [06:26<00:00, 51.69it/s]\n"
     ]
    },
    {
     "data": {
      "text/plain": [
       "0.40085"
      ]
     },
     "execution_count": 43,
     "metadata": {},
     "output_type": "execute_result"
    }
   ],
   "source": [
    "power_calc_filtered(sample_size=30591, views_df=views_distribution, ctr_df=ctr_distribution, threshold=30, nsim=20000)"
   ]
  },
  {
   "cell_type": "markdown",
   "id": "ef40f303-1101-4a52-a23e-033226d29c92",
   "metadata": {},
   "source": [
    "## Вывод\n",
    "\n",
    "Несмотря на предпринятую попытку повысить мощность, используя подвыборку пользователей, достичь приемлемого уровня статистической мощности не удалось. Вместо ожидаемых 80% в результате симуляции по подвыборке получили 40%. Хотя это и демонстрирует некоторое увеличение по сравнению с исходными 36%, всё ещё не позволяет нам с уверенностью утверждать, что мы сможем зафиксировать эффект от внедрения алгоритма, если он будет.\n",
    "\n",
    "В сложившихся обстоятельствах, когда потенциал выявить эффект нового алгоритма остается ограниченным, следует взвесить ряд возможных стратегий:\n",
    "\n",
    "*   **Возможный отказ от эксперимента:** В ситуации, когда выделенных ресурсов не достаточно для обнаружения столь малого изменения, можно рассмотреть отказ от проведения эксперимента, тем самым избежав риска получить неинформативные результаты.\n",
    "*  **Уточнение объема выборки:** Вернуться к эксперименту позднее. Буть может удастся добрать данных для целей достижения требуемой мощности.\n",
    "*   **Пересмотр уровня значимости:** В качестве варианта можно рассмотреть увеличение уровня значимости (например, до 0.1). Это способно увеличить мощность теста, однако, это повысит риск получения ложноположительных результатов (ошибки второго рода).\n",
    "*   **Альтернативные статистические тесты:** Можно провести сравнение и заменить t-тест на другой статистический метод, который лучше адаптирован к данной ситуации. \n",
    "*   **Методы снижения изменчивости метрики:** Попробовать снизить вариативность в данных, например при помощи CUPED (Controlled-experiment Using Pre-Existing Data). Это могло бы увеличить чувствительность теста и снизить дисперсию, что упростило бы выявление изменений. \n",
    "*   **Поиск способов усиления воздействия алгоритма:** Необходимо оценить возможности модификации алгоритма, чтобы увеличить его результативность. Например, расширить охват пользователей, на которых он влияет, либо же усилить сам эффект, повысив количество дополнительных просмотров.\n",
    "\n",
    "**Заключительный комментарий:**\n",
    "\n",
    "Принимая во внимание недостаточную мощность исследования, нужно тщательно оценить каждый из предложенных путей. Окончательное решение о дальнейших действиях должно базироваться на оценке имеющихся ресурсов, возможных рисках и полном понимании ограничений текущей модели. Кроме того, важно помнить о том, что статистическая значимость не должна восприниматься как гарантия наличия реального эффекта."
   ]
  }
 ],
 "metadata": {
  "kernelspec": {
   "display_name": "Python 3 (ipykernel)",
   "language": "python",
   "name": "python3"
  },
  "language_info": {
   "codemirror_mode": {
    "name": "ipython",
    "version": 3
   },
   "file_extension": ".py",
   "mimetype": "text/x-python",
   "name": "python",
   "nbconvert_exporter": "python",
   "pygments_lexer": "ipython3",
   "version": "3.8.10"
  }
 },
 "nbformat": 4,
 "nbformat_minor": 5
}
